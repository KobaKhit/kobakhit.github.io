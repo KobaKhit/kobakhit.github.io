{
 "cells": [
  {
   "cell_type": "markdown",
   "metadata": {},
   "source": [
    "$$\\text{by Shantanu Saha, Vivek Ghelani, Koba Khitalishvili}$$\n",
    "\n",
    "$\\pagebreak$\n",
    "\n",
    "# Tabel of Contents\n",
    "  - [Intro](#Intro)\n",
    "  - [Results](#Results)\n",
    "  - [Appendix](#Appendix)\n",
    "    - [Data](#Data)\n",
    "    - [Principal Component Analysis](#Principal-Component-Analysis)\n",
    "    - [Feature selection](#Feature-selection)\n",
    "    - [Fitting the model](#Fitting-the-model)\n",
    "      - [LogisticRegression](#LogisticRegression)\n",
    "      - [XGboost](#XGboost)\n",
    "      - [RandomForestClassifier](#RandomForestClassifier)\n",
    "      - [ExtraTreesClassifier](#ExtraTreesClassifier)\n",
    "  - [Evan's suggestions](#Evan's-suggestions)\n",
    "  - [Kaggle submission](#Submission)\n",
    "  - [Resources](#Resources)\n",
    "  - [Authors](#Authors)\n",
    "  \n",
    "$\\pagebreak$\n",
    "\n",
    "# Intro\n",
    "\n",
    "The [Santander Customer Competition](https://www.kaggle.com/c/santander-customer-satisfaction) on Kaggle provides us with a synthetic data set with 370 numerical variables. Using those variables the task is to predict whether a customer is satisfied or not. The evaluation metric is ROC AUC.\n",
    "\n",
    "# Results\n",
    "\n",
    "The data set contains synthetic data, i.e. it is anonymized. There were duplicate columns and columns with zero variance (standard deviation is zero) which we removed. This step reduced the number of independent variables from 370 to 308.\n",
    "\n",
    "Using principal components analysis we can see in the [plot](#Prinicipal-Components-Analyis) (see appendix) that the two clusters of customers, satisfied and not, overlap quite a lot which makes it more difficult for the classifiers to perform well. Five principal components explain 96% percents of data (see in [appendix](#Prinicipal-Components-Analyis)). At this point we train the classifiers on the original data after performing feature selection.\n",
    "\n",
    "For feature selection we opted for a randomized trees classifier, aka extra trees, that computes the importance coefficients of the features that are used for feature selection. We end up with 36 important features. This step reduced the number of indepent variables from 308 to 36. We use the 36 features to train our classifiers.\n",
    "\n",
    "We tried different models to see which performs the best with the intent to concentrate on the promising candidates and improve them by tunning parameters through statistical analysis. We expect that gradient tree boosting implemented in `xgboost` python module will be the best model since it is an ensemble method.\n",
    "\n",
    "At the end the `xgboost` classifier performed the best with the ROC area under the curve of 0.838 . For comparison, the best score on [kaggle leaderboard](https://www.kaggle.com/c/santander-customer-satisfaction/leaderboard) is 0.842 as of 3/14/2016. Unfortunately, our score puts us into the top 800, so there is room for improvement.\n",
    "\n",
    "We consider several ways to improve our model. First, perform statistical analysis to identify relationships between variables and include interaction terms in the model. Consider other ways of feature selection and dimension reduction like factor analysis. For tunning the classifier parameters we will perform k-fold cross validation. The parameters we are looking to tune for the gradient boosting classifier are alpha (the regularization term using LASSO regression method), gamma (minimum loss reduction required to make a further partition on a leaf node of the tree), and so on.\n",
    "\n",
    "# Reproducibility\n",
    "All code used to for this project is provided in the appendix. Additionaly, you can find the IPython notebook version of this write up at https://goo.gl/654D3o . The online version has helpful links."
   ]
  },
  {
   "cell_type": "markdown",
   "metadata": {},
   "source": [
    "$\\pagebreak$\n",
    "\n",
    "# Appendix\n",
    "## Data\n",
    "First, we read in data."
   ]
  },
  {
   "cell_type": "code",
   "execution_count": 1,
   "metadata": {
    "collapsed": true
   },
   "outputs": [],
   "source": [
    "import pandas as pd\n",
    "\n",
    "train = pd.read_csv(\"train.csv\")\n",
    "test = pd.read_csv(\"test.csv\")"
   ]
  },
  {
   "cell_type": "code",
   "execution_count": 2,
   "metadata": {
    "collapsed": false,
    "slideshow": {
     "slide_type": "skip"
    }
   },
   "outputs": [
    {
     "data": {
      "text/html": [
       "<div>\n",
       "<table border=\"1\" class=\"dataframe\">\n",
       "  <thead>\n",
       "    <tr style=\"text-align: right;\">\n",
       "      <th></th>\n",
       "      <th>ID</th>\n",
       "      <th>var3</th>\n",
       "      <th>var15</th>\n",
       "      <th>imp_ent_var16_ult1</th>\n",
       "      <th>imp_op_var39_comer_ult1</th>\n",
       "    </tr>\n",
       "  </thead>\n",
       "  <tbody>\n",
       "    <tr>\n",
       "      <th>0</th>\n",
       "      <td>1</td>\n",
       "      <td>2</td>\n",
       "      <td>23</td>\n",
       "      <td>0.0</td>\n",
       "      <td>0.0</td>\n",
       "    </tr>\n",
       "    <tr>\n",
       "      <th>1</th>\n",
       "      <td>3</td>\n",
       "      <td>2</td>\n",
       "      <td>34</td>\n",
       "      <td>0.0</td>\n",
       "      <td>0.0</td>\n",
       "    </tr>\n",
       "    <tr>\n",
       "      <th>2</th>\n",
       "      <td>4</td>\n",
       "      <td>2</td>\n",
       "      <td>23</td>\n",
       "      <td>0.0</td>\n",
       "      <td>0.0</td>\n",
       "    </tr>\n",
       "    <tr>\n",
       "      <th>3</th>\n",
       "      <td>8</td>\n",
       "      <td>2</td>\n",
       "      <td>37</td>\n",
       "      <td>0.0</td>\n",
       "      <td>195.0</td>\n",
       "    </tr>\n",
       "    <tr>\n",
       "      <th>4</th>\n",
       "      <td>10</td>\n",
       "      <td>2</td>\n",
       "      <td>39</td>\n",
       "      <td>0.0</td>\n",
       "      <td>0.0</td>\n",
       "    </tr>\n",
       "  </tbody>\n",
       "</table>\n",
       "</div>"
      ],
      "text/plain": [
       "   ID  var3  var15  imp_ent_var16_ult1  imp_op_var39_comer_ult1\n",
       "0   1     2     23                 0.0                      0.0\n",
       "1   3     2     34                 0.0                      0.0\n",
       "2   4     2     23                 0.0                      0.0\n",
       "3   8     2     37                 0.0                    195.0\n",
       "4  10     2     39                 0.0                      0.0"
      ]
     },
     "execution_count": 2,
     "metadata": {},
     "output_type": "execute_result"
    }
   ],
   "source": [
    "train.iloc[:,0:5].head()"
   ]
  },
  {
   "cell_type": "code",
   "execution_count": 3,
   "metadata": {
    "collapsed": false,
    "slideshow": {
     "slide_type": "skip"
    }
   },
   "outputs": [
    {
     "data": {
      "text/html": [
       "<div>\n",
       "<table border=\"1\" class=\"dataframe\">\n",
       "  <thead>\n",
       "    <tr style=\"text-align: right;\">\n",
       "      <th></th>\n",
       "      <th>ID</th>\n",
       "      <th>var3</th>\n",
       "      <th>var15</th>\n",
       "      <th>imp_ent_var16_ult1</th>\n",
       "      <th>imp_op_var39_comer_ult1</th>\n",
       "    </tr>\n",
       "  </thead>\n",
       "  <tbody>\n",
       "    <tr>\n",
       "      <th>count</th>\n",
       "      <td>76020.000000</td>\n",
       "      <td>76020.000000</td>\n",
       "      <td>76020.000000</td>\n",
       "      <td>76020.000000</td>\n",
       "      <td>76020.000000</td>\n",
       "    </tr>\n",
       "    <tr>\n",
       "      <th>mean</th>\n",
       "      <td>75964.050723</td>\n",
       "      <td>-1523.199277</td>\n",
       "      <td>33.212865</td>\n",
       "      <td>86.208265</td>\n",
       "      <td>72.363067</td>\n",
       "    </tr>\n",
       "    <tr>\n",
       "      <th>std</th>\n",
       "      <td>43781.947379</td>\n",
       "      <td>39033.462364</td>\n",
       "      <td>12.956486</td>\n",
       "      <td>1614.757313</td>\n",
       "      <td>339.315831</td>\n",
       "    </tr>\n",
       "    <tr>\n",
       "      <th>min</th>\n",
       "      <td>1.000000</td>\n",
       "      <td>-999999.000000</td>\n",
       "      <td>5.000000</td>\n",
       "      <td>0.000000</td>\n",
       "      <td>0.000000</td>\n",
       "    </tr>\n",
       "    <tr>\n",
       "      <th>25%</th>\n",
       "      <td>38104.750000</td>\n",
       "      <td>2.000000</td>\n",
       "      <td>23.000000</td>\n",
       "      <td>0.000000</td>\n",
       "      <td>0.000000</td>\n",
       "    </tr>\n",
       "    <tr>\n",
       "      <th>50%</th>\n",
       "      <td>76043.000000</td>\n",
       "      <td>2.000000</td>\n",
       "      <td>28.000000</td>\n",
       "      <td>0.000000</td>\n",
       "      <td>0.000000</td>\n",
       "    </tr>\n",
       "    <tr>\n",
       "      <th>75%</th>\n",
       "      <td>113748.750000</td>\n",
       "      <td>2.000000</td>\n",
       "      <td>40.000000</td>\n",
       "      <td>0.000000</td>\n",
       "      <td>0.000000</td>\n",
       "    </tr>\n",
       "    <tr>\n",
       "      <th>max</th>\n",
       "      <td>151838.000000</td>\n",
       "      <td>238.000000</td>\n",
       "      <td>105.000000</td>\n",
       "      <td>210000.000000</td>\n",
       "      <td>12888.030000</td>\n",
       "    </tr>\n",
       "  </tbody>\n",
       "</table>\n",
       "</div>"
      ],
      "text/plain": [
       "                  ID           var3         var15  imp_ent_var16_ult1  \\\n",
       "count   76020.000000   76020.000000  76020.000000        76020.000000   \n",
       "mean    75964.050723   -1523.199277     33.212865           86.208265   \n",
       "std     43781.947379   39033.462364     12.956486         1614.757313   \n",
       "min         1.000000 -999999.000000      5.000000            0.000000   \n",
       "25%     38104.750000       2.000000     23.000000            0.000000   \n",
       "50%     76043.000000       2.000000     28.000000            0.000000   \n",
       "75%    113748.750000       2.000000     40.000000            0.000000   \n",
       "max    151838.000000     238.000000    105.000000       210000.000000   \n",
       "\n",
       "       imp_op_var39_comer_ult1  \n",
       "count             76020.000000  \n",
       "mean                 72.363067  \n",
       "std                 339.315831  \n",
       "min                   0.000000  \n",
       "25%                   0.000000  \n",
       "50%                   0.000000  \n",
       "75%                   0.000000  \n",
       "max               12888.030000  "
      ]
     },
     "execution_count": 3,
     "metadata": {},
     "output_type": "execute_result"
    }
   ],
   "source": [
    "train.iloc[:,0:5].describe()"
   ]
  },
  {
   "cell_type": "code",
   "execution_count": 121,
   "metadata": {
    "collapsed": false
   },
   "outputs": [
    {
     "data": {
      "text/plain": [
       "(76020, 308)"
      ]
     },
     "execution_count": 121,
     "metadata": {},
     "output_type": "execute_result"
    }
   ],
   "source": [
    "# Number of rows and columns including dependent variable TARGET\n",
    "train.shape"
   ]
  },
  {
   "cell_type": "code",
   "execution_count": 5,
   "metadata": {
    "collapsed": true
   },
   "outputs": [],
   "source": [
    "# clean and split data\n",
    "\n",
    "from sklearn.cross_validation import train_test_split\n",
    "from sklearn import linear_model, metrics\n",
    "from sklearn.feature_selection import RFE\n",
    "from sklearn.metrics import roc_auc_score\n",
    "import numpy as np\n",
    "\n",
    "# remove constant columns (std = 0)\n",
    "remove = []\n",
    "for col in train.columns:\n",
    "    if train[col].std() == 0:\n",
    "        remove.append(col)\n",
    "\n",
    "train.drop(remove, axis=1, inplace=True)\n",
    "test.drop(remove, axis=1, inplace=True)\n",
    "\n",
    "# remove duplicated columns\n",
    "remove = []\n",
    "cols = train.columns\n",
    "for i in range(len(cols)-1):\n",
    "    v = train[cols[i]].values\n",
    "    for j in range(i+1,len(cols)):\n",
    "        if np.array_equal(v,train[cols[j]].values):\n",
    "            remove.append(cols[j])\n",
    "\n",
    "train.drop(remove, axis=1, inplace=True)\n",
    "test.drop(remove, axis=1, inplace=True)\n",
    "\n",
    "# split data into train and test\n",
    "test_id = test.ID\n",
    "test = test.drop([\"ID\"],axis=1)\n",
    "\n",
    "X = train.drop([\"TARGET\",\"ID\"],axis=1)\n",
    "y = train.TARGET.values\n",
    "\n",
    "X_train, X_test, y_train, y_test = train_test_split(X, y, test_size=0.2, random_state=42)\n",
    "X_train.shape, X_test.shape,"
   ]
  },
  {
   "cell_type": "markdown",
   "metadata": {},
   "source": [
    "## Principal Component Analysis"
   ]
  },
  {
   "cell_type": "code",
   "execution_count": 6,
   "metadata": {
    "collapsed": false
   },
   "outputs": [
    {
     "data": {
      "text/html": [
       "<div>\n",
       "<table border=\"1\" class=\"dataframe\">\n",
       "  <thead>\n",
       "    <tr style=\"text-align: right;\">\n",
       "      <th></th>\n",
       "      <th>Proportion</th>\n",
       "      <th>Cumulative</th>\n",
       "    </tr>\n",
       "  </thead>\n",
       "  <tbody>\n",
       "    <tr>\n",
       "      <th>0</th>\n",
       "      <td>0.668105</td>\n",
       "      <td>0.000000</td>\n",
       "    </tr>\n",
       "    <tr>\n",
       "      <th>1</th>\n",
       "      <td>0.149682</td>\n",
       "      <td>0.668105</td>\n",
       "    </tr>\n",
       "    <tr>\n",
       "      <th>2</th>\n",
       "      <td>0.077319</td>\n",
       "      <td>0.817786</td>\n",
       "    </tr>\n",
       "    <tr>\n",
       "      <th>3</th>\n",
       "      <td>0.037672</td>\n",
       "      <td>0.895106</td>\n",
       "    </tr>\n",
       "    <tr>\n",
       "      <th>4</th>\n",
       "      <td>0.034582</td>\n",
       "      <td>0.932777</td>\n",
       "    </tr>\n",
       "    <tr>\n",
       "      <th>5</th>\n",
       "      <td>0.014138</td>\n",
       "      <td>0.967359</td>\n",
       "    </tr>\n",
       "    <tr>\n",
       "      <th>6</th>\n",
       "      <td>0.004752</td>\n",
       "      <td>0.981497</td>\n",
       "    </tr>\n",
       "    <tr>\n",
       "      <th>7</th>\n",
       "      <td>0.003842</td>\n",
       "      <td>0.986249</td>\n",
       "    </tr>\n",
       "    <tr>\n",
       "      <th>8</th>\n",
       "      <td>0.002488</td>\n",
       "      <td>0.990091</td>\n",
       "    </tr>\n",
       "  </tbody>\n",
       "</table>\n",
       "</div>"
      ],
      "text/plain": [
       "   Proportion  Cumulative\n",
       "0    0.668105    0.000000\n",
       "1    0.149682    0.668105\n",
       "2    0.077319    0.817786\n",
       "3    0.037672    0.895106\n",
       "4    0.034582    0.932777\n",
       "5    0.014138    0.967359\n",
       "6    0.004752    0.981497\n",
       "7    0.003842    0.986249\n",
       "8    0.002488    0.990091"
      ]
     },
     "execution_count": 6,
     "metadata": {},
     "output_type": "execute_result"
    }
   ],
   "source": [
    "from sklearn.decomposition import PCA\n",
    "from sklearn.preprocessing import normalize\n",
    "\n",
    "pca = PCA(n_components=None)\n",
    "pca.fit(X_train)\n",
    "\n",
    "pc = pd.DataFrame(pca.explained_variance_ratio_,columns=['Proportion'])\n",
    "pc[\"Cumulative\"] = [np.sum(pca.explained_variance_ratio_[0:i]) for i in range(0,len(pc))]\n",
    "\n",
    "# principal components\n",
    "pc.iloc[0:9,:]"
   ]
  },
  {
   "cell_type": "code",
   "execution_count": 7,
   "metadata": {
    "collapsed": false
   },
   "outputs": [
    {
     "name": "stderr",
     "output_type": "stream",
     "text": [
      "//anaconda/lib/python2.7/site-packages/matplotlib/collections.py:590: FutureWarning: elementwise comparison failed; returning scalar instead, but in the future will perform elementwise comparison\n",
      "  if self._edgecolors == str('face'):\n"
     ]
    },
    {
     "data": {
      "image/png": "[encoded data removed]",
      "text/plain": [
       "<matplotlib.figure.Figure at 0x11fcab3d0>"
      ]
     },
     "metadata": {},
     "output_type": "display_data"
    }
   ],
   "source": [
    "# https://www.kaggle.com/tuomastik/santander-customer-satisfaction/pca-visualization\n",
    "\n",
    "%matplotlib inline\n",
    "import matplotlib.pyplot as plt\n",
    "\n",
    "\n",
    "# normalize each feature to unit norm (vector length)\n",
    "X_train_normalized = normalize(X_train, axis=0)\n",
    "\n",
    "# project principal components onto new axis\n",
    "pca = PCA(n_components=2)\n",
    "pca.fit(X_train)\n",
    "X_train_projected = pca.fit_transform(X_train_normalized)\n",
    "\n",
    "# visualize\n",
    "fig = plt.figure(figsize=(10, 7))\n",
    "ax = fig.add_subplot(1, 1, 1)\n",
    "colors = [(0.0, 0.63, 0.69), 'black']\n",
    "markers = [\"o\", \"D\"]\n",
    "classes = [0,1]\n",
    "labels = [\"Unsatisfied\",\"Satisfied\"]\n",
    "for class_ix, marker, color, label in zip(\n",
    "        classes, markers, colors, labels):\n",
    "    ax.scatter(X_train_projected[np.where(y_train == class_ix), 0],\n",
    "               X_train_projected[np.where(y_train == class_ix), 1],\n",
    "               marker=marker, color=color, edgecolor='whitesmoke',\n",
    "               linewidth='1', alpha=0.9, label=label)\n",
    "    ax.legend(loc='best')\n",
    "plt.title(\n",
    "    \"Scatter plot of the training data examples projected on the \"\n",
    "    \"2 first principal components\")\n",
    "plt.xlabel(\"Principal axis 1 - Explains %.1f %% of the variance\" % (\n",
    "    pca.explained_variance_ratio_[0] * 100.0))\n",
    "plt.ylabel(\"Principal axis 2 - Explains %.1f %% of the variance\" % (\n",
    "    pca.explained_variance_ratio_[1] * 100.0))\n",
    "plt.show()"
   ]
  },
  {
   "cell_type": "markdown",
   "metadata": {},
   "source": [
    "## Feature selection"
   ]
  },
  {
   "cell_type": "code",
   "execution_count": 8,
   "metadata": {
    "collapsed": false
   },
   "outputs": [
    {
     "name": "stdout",
     "output_type": "stream",
     "text": [
      "((60816, 36), (15204, 36), (75818, 36))\n"
     ]
    }
   ],
   "source": [
    "from sklearn.ensemble import ExtraTreesClassifier\n",
    "from sklearn.feature_selection import SelectFromModel\n",
    "\n",
    "clf = ExtraTreesClassifier(random_state=1729)\n",
    "selector = clf.fit(X_train, y_train)\n",
    "fs = SelectFromModel(selector, prefit=True)\n",
    "\n",
    "# Data sets with reduced dimensions - 36\n",
    "X_train2 = fs.transform(X_train)\n",
    "X_test2 = fs.transform(X_test)\n",
    "test2 = fs.transform(test)\n",
    "\n",
    "print(X_train2.shape, X_test2.shape, test2.shape)"
   ]
  },
  {
   "cell_type": "code",
   "execution_count": 165,
   "metadata": {
    "collapsed": false
   },
   "outputs": [
    {
     "data": {
      "text/plain": [
       "<matplotlib.text.Text at 0x184f39410>"
      ]
     },
     "execution_count": 165,
     "metadata": {},
     "output_type": "execute_result"
    },
    {
     "data": {
      "image/png": "[encoded data removed]",
      "text/plain": [
       "<matplotlib.figure.Figure at 0x18eff1cd0>"
      ]
     },
     "metadata": {},
     "output_type": "display_data"
    }
   ],
   "source": [
    "# most important features\n",
    "feat_imp = pd.Series(clf.feature_importances_, index = X_train.columns.values).sort_values(ascending=False)\n",
    "feat_imp[:40].plot(kind='bar', title='Feature Importances', figsize=(12, 4))\n",
    "plt.ylabel('Feature Importance Score')\n"
   ]
  },
  {
   "cell_type": "markdown",
   "metadata": {},
   "source": [
    "## Fitting a model\n",
    "### NearestNeighbour"
   ]
  },
  {
   "cell_type": "code",
   "execution_count": 11,
   "metadata": {
    "collapsed": false
   },
   "outputs": [
    {
     "data": {
      "text/plain": [
       "0.67297149478594542"
      ]
     },
     "execution_count": 11,
     "metadata": {},
     "output_type": "execute_result"
    }
   ],
   "source": [
    "from sklearn.neighbors import KNeighborsClassifier\n",
    "\n",
    "# we create an instance of Neighbours Classifier and fit the data.\n",
    "nbs = KNeighborsClassifier(n_neighbors=100)\n",
    "nbs.fit(X_train2, y_train)\n",
    "\n",
    "# calculate the auc\n",
    "roc_auc_score(y_test, nbs.predict_proba(X_test2)[:,1], average='macro')"
   ]
  },
  {
   "cell_type": "markdown",
   "metadata": {},
   "source": [
    "### LogisticRegression"
   ]
  },
  {
   "cell_type": "code",
   "execution_count": 13,
   "metadata": {
    "collapsed": false
   },
   "outputs": [
    {
     "name": "stdout",
     "output_type": "stream",
     "text": [
      "[LibLinear]"
     ]
    },
    {
     "data": {
      "text/plain": [
       "0.65865867588734073"
      ]
     },
     "execution_count": 13,
     "metadata": {},
     "output_type": "execute_result"
    }
   ],
   "source": [
    "# Logistic classifier from sklearn\n",
    "m1_log = linear_model.LogisticRegression(verbose=3, max_iter=2000, random_state=1729)\n",
    "m1_log.fit(X_train2, y_train)\n",
    "\n",
    "# calculate the auc\n",
    "roc_auc_score(y_test, m1_log.predict_proba(X_test2)[:,1],\\\n",
    "              average='macro')"
   ]
  },
  {
   "cell_type": "markdown",
   "metadata": {},
   "source": [
    "### Xgboost"
   ]
  },
  {
   "cell_type": "code",
   "execution_count": 138,
   "metadata": {
    "collapsed": false
   },
   "outputs": [
    {
     "data": {
      "text/plain": [
       "0.84176940963812052"
      ]
     },
     "execution_count": 138,
     "metadata": {},
     "output_type": "execute_result"
    }
   ],
   "source": [
    "import xgboost as xgb\n",
    "\n",
    "# logistic classifier from xgboost\n",
    "m2_xgb = xgb.XGBClassifier(seed=1729, max_depth=4)\n",
    "m2_xgb.fit(X_train2, y_train, eval_metric=\"auc\", verbose = False,\n",
    "          eval_set = [(X_test2, y_test)])\n",
    "\n",
    "# calculate the auc score\n",
    "roc_auc_score(y_test, m2_xgb.predict_proba(X_test2)[:,1],\n",
    "              average='macro')"
   ]
  },
  {
   "cell_type": "markdown",
   "metadata": {},
   "source": [
    "### RandomForestClassifier"
   ]
  },
  {
   "cell_type": "code",
   "execution_count": 19,
   "metadata": {
    "collapsed": false
   },
   "outputs": [
    {
     "data": {
      "text/plain": [
       "0.76829078078939961"
      ]
     },
     "execution_count": 19,
     "metadata": {},
     "output_type": "execute_result"
    }
   ],
   "source": [
    "from sklearn.ensemble import RandomForestClassifier\n",
    "\n",
    "m3_rf = RandomForestClassifier(n_estimators=300, random_state=1729)\n",
    "m3_rf.fit(X_train2, y_train)\n",
    "\n",
    "# calculate the auc score\n",
    "roc_auc_score(y_test, m3_rf.predict_proba(X_test2)[:,1],\\\n",
    "              average='macro')"
   ]
  },
  {
   "cell_type": "markdown",
   "metadata": {},
   "source": [
    "### ExtraTreesClassifier"
   ]
  },
  {
   "cell_type": "code",
   "execution_count": 20,
   "metadata": {
    "collapsed": false,
    "scrolled": true
   },
   "outputs": [
    {
     "data": {
      "text/plain": [
       "0.76829078078939961"
      ]
     },
     "execution_count": 20,
     "metadata": {},
     "output_type": "execute_result"
    }
   ],
   "source": [
    "# Extremely Randomized Trees\n",
    "from sklearn.ensemble import ExtraTreesClassifier\n",
    "\n",
    "m4_rf = ExtraTreesClassifier(n_estimators=400, max_depth=None, \n",
    "                             min_samples_split=1, random_state=1729)\n",
    "m4_rf.fit(X_train2, y_train)\n",
    "\n",
    "# calculate the auc score\n",
    "roc_auc_score(y_test, m3_rf.predict_proba(X_test2)[:,1],\\\n",
    "              average='macro')"
   ]
  },
  {
   "cell_type": "markdown",
   "metadata": {},
   "source": [
    "# Evan's suggestions\n",
    "\n",
    "Here's an idea:  \n",
    "  - run XGBoost with 60% of the variables (randomly chosen), \n",
    "  - then run a 2nd model with 60% randomly chosen, \n",
    "  - then do a 3rd model with any variables that haven't been chosen in the first 2 models and randomly select the rest\n",
    "  - avg the predictions and submit\n",
    "  - then take all 3 predictions, add them in as variables and run xgboost on all of them\n",
    "\n",
    "Here's another idea: check out https://www.kaggle.com/tks0123456789/santander-customer-satisfaction/data-exploration/notebook\n",
    "it's probably a good idea to run a model that includes neither of the first 2 variables -- it's predictive power won't be as good, but i bet it's a great regularizer that increases the overall result when blended in\n",
    "probably a model without just the most important variable (var38) too.  and one with var38 and all the rest, but not the 2nd most important\n",
    "anyway, these are my ideas. i'm not the greatest at implementing them though\n"
   ]
  },
  {
   "cell_type": "code",
   "execution_count": 50,
   "metadata": {
    "collapsed": false
   },
   "outputs": [
    {
     "data": {
      "text/plain": [
       "((60816, 306), (15204, 306))"
      ]
     },
     "execution_count": 50,
     "metadata": {},
     "output_type": "execute_result"
    }
   ],
   "source": [
    "# Original clean data sets\n",
    "X_train.shape, X_test.shape"
   ]
  },
  {
   "cell_type": "code",
   "execution_count": 81,
   "metadata": {
    "collapsed": false
   },
   "outputs": [
    {
     "data": {
      "text/plain": [
       "((60816, 183), (60816, 183), (60816, 182))"
      ]
     },
     "execution_count": 81,
     "metadata": {},
     "output_type": "execute_result"
    }
   ],
   "source": [
    "import random as rand\n",
    "\n",
    "n = len(X_train.columns) - 1 # number of features = 306\n",
    "\n",
    "rand.seed(1729)\n",
    "X_tr1 = X_train.iloc[:,rand.sample(range(0, n), int(0.6*n))] # 60%\n",
    "\n",
    "rand.seed(691)\n",
    "X_tr2 = X_train.iloc[:,rand.sample(range(0, n), int(0.6*n))] # 60%\n",
    "\n",
    "used_vars = np.hstack((X_tr1.columns.values, X_tr2.columns.values))\n",
    "X_tr3 = X_train.drop(np.unique(used_vars), axis = 1)\n",
    "rest_vars_frame = X_train.loc[:,np.unique(used_vars)]\n",
    "X_tr3 = pd.concat([X_tr3, \n",
    "                   rest_vars_frame.iloc[:,rand.sample(range(0, 183-45-1), 183-45-1)] ], \n",
    "                  axis=1)\n",
    "\n",
    "\n",
    "X_tr1.shape, X_tr2.shape, X_tr3.shape"
   ]
  },
  {
   "cell_type": "markdown",
   "metadata": {},
   "source": [
    "# Models"
   ]
  },
  {
   "cell_type": "code",
   "execution_count": 118,
   "metadata": {
    "collapsed": false
   },
   "outputs": [
    {
     "data": {
      "text/html": [
       "<div>\n",
       "<table border=\"1\" class=\"dataframe\">\n",
       "  <thead>\n",
       "    <tr style=\"text-align: right;\">\n",
       "      <th></th>\n",
       "      <th>model1</th>\n",
       "      <th>model2</th>\n",
       "      <th>model3</th>\n",
       "    </tr>\n",
       "  </thead>\n",
       "  <tbody>\n",
       "    <tr>\n",
       "      <th>0</th>\n",
       "      <td>0.027205</td>\n",
       "      <td>0.031196</td>\n",
       "      <td>0.046573</td>\n",
       "    </tr>\n",
       "    <tr>\n",
       "      <th>1</th>\n",
       "      <td>0.030744</td>\n",
       "      <td>0.035177</td>\n",
       "      <td>0.047232</td>\n",
       "    </tr>\n",
       "    <tr>\n",
       "      <th>2</th>\n",
       "      <td>0.013156</td>\n",
       "      <td>0.010288</td>\n",
       "      <td>0.001996</td>\n",
       "    </tr>\n",
       "    <tr>\n",
       "      <th>3</th>\n",
       "      <td>0.081348</td>\n",
       "      <td>0.078273</td>\n",
       "      <td>0.011625</td>\n",
       "    </tr>\n",
       "    <tr>\n",
       "      <th>4</th>\n",
       "      <td>0.012702</td>\n",
       "      <td>0.011863</td>\n",
       "      <td>0.002578</td>\n",
       "    </tr>\n",
       "  </tbody>\n",
       "</table>\n",
       "</div>"
      ],
      "text/plain": [
       "     model1    model2    model3\n",
       "0  0.027205  0.031196  0.046573\n",
       "1  0.030744  0.035177  0.047232\n",
       "2  0.013156  0.010288  0.001996\n",
       "3  0.081348  0.078273  0.011625\n",
       "4  0.012702  0.011863  0.002578"
      ]
     },
     "execution_count": 118,
     "metadata": {},
     "output_type": "execute_result"
    }
   ],
   "source": [
    "m = xgb.XGBClassifier(seed=1729, max_depth=4)\n",
    "\n",
    "## model 1\n",
    "m.fit(X_tr1, y_train, eval_metric=\"auc\", verbose = False,\n",
    "          eval_set = [(X_test.loc[:,X_tr1.columns.values], y_test)])\n",
    "\n",
    "m1_out = m.predict_proba(test.loc[:,X_tr1.columns.values])[:,1]\n",
    "\n",
    "## model 2\n",
    "m.fit(X_tr2, y_train, eval_metric = \"auc\", verbose = False,\n",
    "          eval_set = [(X_test.loc[:,X_tr2.columns.values], y_test)])\n",
    "\n",
    "m2_out = m.predict_proba(test.loc[:,X_tr2.columns.values])[:,1]\n",
    "\n",
    "# model 3\n",
    "m.fit(X_tr3, y_train, eval_metric = \"auc\", verbose = False,\n",
    "          eval_set = [(X_test.loc[:,X_tr3.columns.values], y_test)])\n",
    "\n",
    "m3_out = m.predict_proba(test.loc[:,X_tr3.columns.values])[:,1]\n",
    "\n",
    "# group predictions in one dataframe\n",
    "d = {\"model1\": m1_out, \"model2\": m2_out, \"model3\": m3_out}\n",
    "evans_preds = pd.DataFrame(data = d, columns = [\"model1\",\"model2\",\"model3\"])\n",
    "evans_preds.head()"
   ]
  },
  {
   "cell_type": "code",
   "execution_count": 119,
   "metadata": {
    "collapsed": true
   },
   "outputs": [],
   "source": [
    "# Average predictions and submit\n",
    "evans = evans_preds.sum(axis = 1)/3\n",
    "\n",
    "# save submission\n",
    "submission = pd.DataFrame({\"ID\":test_id, \"TARGET\": evans})\n",
    "submission.to_csv(\"submission_evans.csv\", index=False)"
   ]
  },
  {
   "cell_type": "markdown",
   "metadata": {},
   "source": [
    "# Model tunning"
   ]
  },
  {
   "cell_type": "code",
   "execution_count": 167,
   "metadata": {
    "collapsed": true
   },
   "outputs": [],
   "source": [
    "# model evaluation function\n",
    "def modelfit(alg, X, y,useTrainCV=True, cv_folds=5, early_stopping_rounds=20):\n",
    "    \n",
    "    X_train, X_test, y_train, y_test = train_test_split(X, y, test_size=0.2, random_state=42)\n",
    "    \n",
    "    if useTrainCV:\n",
    "        xgb_param = alg.get_xgb_params()\n",
    "        xgtrain = xgb.DMatrix(X_train, label=y_train)\n",
    "        cvresult = xgb.cv(xgb_param, xgtrain, num_boost_round=alg.get_params()['n_estimators'], \n",
    "                          nfold=cv_folds,metrics=[\"auc\"], \n",
    "                          early_stopping_rounds=early_stopping_rounds, show_progress=False)\n",
    "        alg.set_params(n_estimators=cvresult.shape[0])\n",
    "    \n",
    "    #Fit the algorithm on the data\n",
    "    alg.fit(X_train, y_train,eval_metric='auc')\n",
    "        \n",
    "    #Predict training set:\n",
    "    dtrain_predictions = alg.predict(X_train)\n",
    "    dtrain_predprob = alg.predict_proba(X_train)[:,1]\n",
    "    dtest_predprob = alg.predict_proba(X_test)[:,1]\n",
    "    \n",
    "    #Print model report:\n",
    "    print \"\\nModel Report\"\n",
    "    print \"Accuracy : %.4g\" % metrics.accuracy_score(y_train, \n",
    "                                                     dtrain_predictions)\n",
    "    print \"AUC Score (Train): %f\" % metrics.roc_auc_score(y_train, \n",
    "                                                          dtrain_predprob)\n",
    "    print \"AUC Score (Test): %f\" % metrics.roc_auc_score(y_test, \n",
    "                                                          dtest_predprob)\n",
    "    \n",
    "                    \n",
    "    feat_imp = pd.Series(alg.booster().get_fscore()).sort_values(ascending=False)\n",
    "    feat_imp.plot(kind='bar', title='Feature Importances according to XGBoost', figsize=(14, 4))\n",
    "    plt.ylabel('Feature Importance Score')"
   ]
  },
  {
   "cell_type": "code",
   "execution_count": 168,
   "metadata": {
    "collapsed": false
   },
   "outputs": [
    {
     "name": "stdout",
     "output_type": "stream",
     "text": [
      "\n",
      "Model Report\n",
      "Accuracy : 0.961\n",
      "AUC Score (Train): 0.867238\n",
      "AUC Score (Test): 0.843223\n"
     ]
    },
    {
     "name": "stderr",
     "output_type": "stream",
     "text": [
      "Will train until cv error hasn't decreased in 20 rounds.\n"
     ]
    },
    {
     "data": {
      "image/png": "[encoded data removed]",
      "text/plain": [
       "<matplotlib.figure.Figure at 0x1833df710>"
      ]
     },
     "metadata": {},
     "output_type": "display_data"
    }
   ],
   "source": [
    "modelfit(m2_xgb, X, y)"
   ]
  },
  {
   "cell_type": "code",
   "execution_count": 131,
   "metadata": {
    "collapsed": false
   },
   "outputs": [
    {
     "data": {
      "text/plain": [
       "{'base_score': 0.5,\n",
       " 'colsample_bylevel': 1,\n",
       " 'colsample_bytree': 1,\n",
       " 'gamma': 0,\n",
       " 'learning_rate': 0.1,\n",
       " 'max_delta_step': 0,\n",
       " 'max_depth': 4,\n",
       " 'min_child_weight': 1,\n",
       " 'missing': None,\n",
       " 'n_estimators': 100,\n",
       " 'nthread': -1,\n",
       " 'objective': 'binary:logistic',\n",
       " 'reg_alpha': 0,\n",
       " 'reg_lambda': 1,\n",
       " 'scale_pos_weight': 1,\n",
       " 'seed': 1729,\n",
       " 'silent': True,\n",
       " 'subsample': 1}"
      ]
     },
     "execution_count": 131,
     "metadata": {},
     "output_type": "execute_result"
    }
   ],
   "source": [
    "# base model parameters \n",
    "m2_xgb.get_params()"
   ]
  },
  {
   "cell_type": "code",
   "execution_count": 136,
   "metadata": {
    "collapsed": false
   },
   "outputs": [
    {
     "data": {
      "text/plain": [
       "([mean: 0.83439, std: 0.00763, params: {'max_depth': 3, 'min_child_weight': 1},\n",
       "  mean: 0.83442, std: 0.00745, params: {'max_depth': 3, 'min_child_weight': 2},\n",
       "  mean: 0.83500, std: 0.00766, params: {'max_depth': 4, 'min_child_weight': 1},\n",
       "  mean: 0.83413, std: 0.00778, params: {'max_depth': 4, 'min_child_weight': 2},\n",
       "  mean: 0.83374, std: 0.00751, params: {'max_depth': 5, 'min_child_weight': 1},\n",
       "  mean: 0.83378, std: 0.00702, params: {'max_depth': 5, 'min_child_weight': 2}],\n",
       " {'max_depth': 4, 'min_child_weight': 1},\n",
       " 0.83500496102988753)"
      ]
     },
     "execution_count": 136,
     "metadata": {},
     "output_type": "execute_result"
    }
   ],
   "source": [
    "from sklearn.grid_search import  RandomizedSearchCV\n",
    "\n",
    "best_params = m2_xgb.get_params()\n",
    "\n",
    "# specify parameters and distributions to sample from\n",
    "param_test = {\n",
    " 'max_depth':range(3,6,1),\n",
    " 'min_child_weight':range(1,3,1)\n",
    "}\n",
    "\n",
    "# run grid search\n",
    "gridclass = xgb.XGBClassifier(best_params) # base model\n",
    "grid_search = RandomizedSearchCV(gridclass, param_distributions=param_test, scoring=\"roc_auc\", n_iter=6)\n",
    "grid_search.fit(X_train2,y_train)\n",
    "grid_search.grid_scores_, grid_search.best_params_, grid_search.best_score_"
   ]
  },
  {
   "cell_type": "markdown",
   "metadata": {},
   "source": [
    "# Kaggle submission"
   ]
  },
  {
   "cell_type": "code",
   "execution_count": 130,
   "metadata": {
    "collapsed": true
   },
   "outputs": [],
   "source": [
    "probs = m2_xgb.predict_proba(test2)\n",
    "\n",
    "submission = pd.DataFrame({\"ID\":test_id, \"TARGET\": probs[:,1]})\n",
    "submission.to_csv(\"submission.csv\", index=False)"
   ]
  },
  {
   "cell_type": "markdown",
   "metadata": {},
   "source": [
    "$\\pagebreak$\n",
    "\n",
    "# Resources\n",
    "- [Sklearn documantation](http://scikit-learn.org/stable/documentation.html)\n",
    "- [Ensemble methods](http://scikit-learn.org/stable/modules/ensemble.html)\n",
    "- [Grid search](http://scikit-learn.org/stable/modules/grid_search.html)\n",
    "- [Scikit-learn: Machine Learning in Python](http://jmlr.csail.mit.edu/papers/v12/pedregosa11a.html), Pedregosa et al., JMLR 12, pp. 2825-2830, 2011.\n",
    "- [Model Selection: Beyond the Bayesian/Frequentist Divide Isabelle Guyon](http://www.jmlr.org/papers/volume8/cawley07a/cawley07a.pdf), Amir Saffari, Gideon Dror, Gavin Cawley; 11(Jan):61--87, 2010.\n",
    "- [Ensembling guide](http://mlwave.com/kaggle-ensembling-guide/#more-877)\n",
    "\n",
    "# Authors\n",
    "  - Evan Van Ness\n",
    "  - [Shantanu Saha](https://www.linkedin.com/in/1saha)\n",
    "  - [Vivek Ghelani](https://www.linkedin.com/in/vivekghelani) \n",
    "  - [Koba Khitalishvili](http://www.kobakhit.com/)"
   ]
  }
 ],
 "metadata": {
  "celltoolbar": "Slideshow",
  "kernelspec": {
   "display_name": "Python 2",
   "language": "python",
   "name": "python2"
  },
  "language_info": {
   "codemirror_mode": {
    "name": "ipython",
    "version": 2
   },
   "file_extension": ".py",
   "mimetype": "text/x-python",
   "name": "python",
   "nbconvert_exporter": "python",
   "pygments_lexer": "ipython2",
   "version": "2.7.11"
  }
 },
 "nbformat": 4,
 "nbformat_minor": 0
}
