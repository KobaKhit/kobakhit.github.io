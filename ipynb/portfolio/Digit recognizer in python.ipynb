{
 "cells": [
  {
   "cell_type": "markdown",
   "metadata": {},
   "source": [
    "# Digit Recognizer in Python using Convolutional Neural Nets\n",
    "\n",
    "by [Koba Khitalishvili](http://www.kobakhit.com/)\n",
    "\n",
    "## Introduction\n",
    "\n",
    "I used Mathematica and a standard Neural Network model to get ~0.98 accuracy score after 40 minutes of computing. Starting with a brief benchmark Python code [found in the forums](https://www.kaggle.com/c/digit-recognizer/forums/t/2299/getting-started-python-sample-code-random-forest) one can jump into solving the Digit Recognizer\n",
    "problem right away. Below code that uses Random Forest algorithm to classify images as digits will give you \n",
    "around 0.96 accuracy score in less than a minute which is great. However, this score will put you lower than the 200th place. \n",
    "According to [MNIST web page](http://yann.lecun.com/exdb/mnist/), convolutional neural networks algorithm yields good results.\n",
    "I will try a simple neural network algorithm out in Python, expand it into a convolutional neural network and see if I can break into the top 100."
   ]
  },
  {
   "cell_type": "code",
   "execution_count": 1,
   "metadata": {
    "collapsed": false
   },
   "outputs": [],
   "source": [
    "from sklearn.ensemble import RandomForestClassifier\n",
    "import numpy as np\n",
    "import pandas as pd\n",
    "\n",
    "# create the training & test sets, skipping the header row with [1:]\n",
    "dataset = pd.read_csv(\"../mnist-data/train.csv\")\n",
    "target = dataset[[0]].values.ravel()\n",
    "train = dataset.iloc[:,1:].values\n",
    "test = pd.read_csv(\"../mnist-data/test.csv\").values\n",
    "\n",
    "# create and train the random forest\n",
    "# multi-core CPUs can use: rf = RandomForestClassifier(n_estimators=100, n_jobs=2)\n",
    "rf = RandomForestClassifier(n_estimators=100)\n",
    "rf.fit(train, target)\n",
    "pred = rf.predict(test)\n",
    "\n",
    "np.savetxt('submission_rand_forest.csv', \\\n",
    "           np.c_[range(1,len(test)+1),pred], delimiter=',', \\\n",
    "           header = 'ImageId,Label', comments = '', fmt='%d')"
   ]
  },
  {
   "cell_type": "markdown",
   "metadata": {},
   "source": [
    "## Table of contents\n",
    "1. Data Preprocessing\n",
    "2. Train, Predict and Save\n",
    "3. Conclusion\n",
    "\n",
    "## Data Preprocessing\n",
    "First, lets prepare the data. The `train.csv` has 42k rows. The first column is the digit labels. The rest 784 columns\n",
    "are pixel color values that go from 0 to 255. After loading in the csv files in code section above, I saved the digit labels in the `target` variable and rows of pixel color values  in the `train` variable. \n",
    "The `test.csv` contains 28k rows of just the pixel color values which we need to classify as digits. Here is the preview of the complete MNIST dataset."
   ]
  },
  {
   "cell_type": "code",
   "execution_count": 2,
   "metadata": {
    "collapsed": false
   },
   "outputs": [
    {
     "name": "stdout",
     "output_type": "stream",
     "text": [
      "   label  pixel0  pixel1  pixel2  pixel3  pixel4  pixel5  pixel6  pixel7  \\\n",
      "0      1       0       0       0       0       0       0       0       0   \n",
      "1      0       0       0       0       0       0       0       0       0   \n",
      "2      1       0       0       0       0       0       0       0       0   \n",
      "3      4       0       0       0       0       0       0       0       0   \n",
      "4      0       0       0       0       0       0       0       0       0   \n",
      "\n",
      "   pixel8    ...     pixel774  pixel775  pixel776  pixel777  pixel778  \\\n",
      "0       0    ...            0         0         0         0         0   \n",
      "1       0    ...            0         0         0         0         0   \n",
      "2       0    ...            0         0         0         0         0   \n",
      "3       0    ...            0         0         0         0         0   \n",
      "4       0    ...            0         0         0         0         0   \n",
      "\n",
      "   pixel779  pixel780  pixel781  pixel782  pixel783  \n",
      "0         0         0         0         0         0  \n",
      "1         0         0         0         0         0  \n",
      "2         0         0         0         0         0  \n",
      "3         0         0         0         0         0  \n",
      "4         0         0         0         0         0  \n",
      "\n",
      "[5 rows x 785 columns]\n"
     ]
    }
   ],
   "source": [
    "print(dataset.head())"
   ]
  },
  {
   "cell_type": "markdown",
   "metadata": {},
   "source": [
    "I convert each data variable from a python list into a numpy array. For the `target` array I specify the integer data type.\n",
    "The train set has 42k rows and 784 columns, so its shape is `(42k,784)`. Each row is a 28 by 28 pixel\n",
    "picture. I will reshape the train set to have `(42k,1)` shape, i.e. each row will contain a 28 by 28 matrix of pixel color values. Same for the test set."
   ]
  },
  {
   "cell_type": "code",
   "execution_count": 3,
   "metadata": {
    "collapsed": false
   },
   "outputs": [],
   "source": [
    "# convert to array, specify data type, and reshape\n",
    "target = target.astype(np.uint8)\n",
    "train = np.array(train).reshape((-1, 1, 28, 28)).astype(np.uint8)\n",
    "test = np.array(test).reshape((-1, 1, 28, 28)).astype(np.uint8)"
   ]
  },
  {
   "cell_type": "markdown",
   "metadata": {},
   "source": [
    "Now, we can actually plot those pixel color values and see what a sample picture of a digit looks like. Below is the picture of a digit in the 1729th row:"
   ]
  },
  {
   "cell_type": "code",
   "execution_count": 10,
   "metadata": {
    "collapsed": false
   },
   "outputs": [
    {
     "data": {
      "text/plain": [
       "<matplotlib.image.AxesImage at 0x11e66aad0>"
      ]
     },
     "execution_count": 10,
     "metadata": {},
     "output_type": "execute_result"
    },
    {
     "data": {
      "image/png": "[encoded data removed]",
      "text/plain": [
       "<matplotlib.figure.Figure at 0x12feb75d0>"
      ]
     },
     "metadata": {},
     "output_type": "display_data"
    }
   ],
   "source": [
    "import matplotlib.pyplot as plt\n",
    "import matplotlib.cm as cm\n",
    "\n",
    "plt.imshow(train[1729][0], cmap=cm.binary) # draw the picture"
   ]
  },
  {
   "cell_type": "markdown",
   "metadata": {},
   "source": [
    "## Train, Predict and Save\n",
    "Below is a simple NN set up. Supposedly, it should give >0.9 accuracy score. I had trouble with figuring out\n",
    "the training part in that the accuracy I was getting would not change during the training process. All I had to \n",
    "do was to decrease the learning rate from 0.01 to 0.0001, nota bene."
   ]
  },
  {
   "cell_type": "code",
   "execution_count": 5,
   "metadata": {
    "collapsed": false
   },
   "outputs": [
    {
     "name": "stderr",
     "output_type": "stream",
     "text": [
      "//anaconda/lib/python2.7/site-packages/theano/tensor/signal/downsample.py:6: UserWarning: downsample module has been moved to the theano.tensor.signal.pool module.\n",
      "  \"downsample module has been moved to the theano.tensor.signal.pool module.\")\n"
     ]
    }
   ],
   "source": [
    "import lasagne\n",
    "from lasagne import layers\n",
    "from lasagne.updates import nesterov_momentum\n",
    "from nolearn.lasagne import NeuralNet\n",
    "from nolearn.lasagne import visualize\n",
    "\n",
    "net1 = NeuralNet(\n",
    "        layers=[('input', layers.InputLayer),\n",
    "                ('hidden', layers.DenseLayer),\n",
    "                ('output', layers.DenseLayer),\n",
    "                ],\n",
    "        # layer parameters:\n",
    "        input_shape=(None,1,28,28),\n",
    "        hidden_num_units=1000, # number of units in 'hidden' layer\n",
    "        output_nonlinearity=lasagne.nonlinearities.softmax,\n",
    "        output_num_units=10,  # 10 target values for the digits 0, 1, 2, ..., 9\n",
    "\n",
    "        # optimization method:\n",
    "        update=nesterov_momentum,\n",
    "        update_learning_rate=0.0001,\n",
    "        update_momentum=0.9,\n",
    "\n",
    "        max_epochs=15,\n",
    "        verbose=1,\n",
    "        )"
   ]
  },
  {
   "cell_type": "markdown",
   "metadata": {},
   "source": [
    "Now, lets train the model. "
   ]
  },
  {
   "cell_type": "code",
   "execution_count": 6,
   "metadata": {
    "collapsed": false
   },
   "outputs": [
    {
     "name": "stderr",
     "output_type": "stream",
     "text": [
      "//anaconda/lib/python2.7/site-packages/nolearn/lasagne/base.py:428: UserWarning: The Param class is deprecated. Replace Param(default=N) by theano.In(value=N)\n",
      "  for input_layer in input_layers]\n",
      "//anaconda/lib/python2.7/site-packages/nolearn/lasagne/base.py:429: UserWarning: The Param class is deprecated. Replace Param(default=N) by theano.In(value=N)\n",
      "  inputs = X_inputs + [theano.Param(y_batch, name=\"y\")]\n",
      "WARNING (theano.gof.compilelock): Overriding existing lock by dead process '22719' (I am process '1421')\n",
      "WARNING:theano.gof.compilelock:Overriding existing lock by dead process '22719' (I am process '1421')\n"
     ]
    },
    {
     "name": "stdout",
     "output_type": "stream",
     "text": [
      "# Neural Network with 795010 learnable parameters\n",
      "\n",
      "## Layer information\n",
      "\n",
      "  #  name    size\n",
      "---  ------  -------\n",
      "  0  input   1x28x28\n",
      "  1  hidden  1000\n",
      "  2  output  10\n",
      "\n",
      "  epoch    train loss    valid loss    train/val    valid acc  dur\n",
      "-------  ------------  ------------  -----------  -----------  -----\n",
      "      1       \u001b[36m6.96745\u001b[0m       \u001b[32m2.02490\u001b[0m      3.44089      0.92962  7.79s\n",
      "      2       \u001b[36m1.02433\u001b[0m       \u001b[32m1.51473\u001b[0m      0.67625      0.93720  8.10s\n",
      "      3       \u001b[36m0.45578\u001b[0m       \u001b[32m1.28252\u001b[0m      0.35538      0.93897  8.01s\n",
      "      4       \u001b[36m0.22336\u001b[0m       1.30088      0.17170      0.93696  7.89s\n",
      "      5       \u001b[36m0.12570\u001b[0m       \u001b[32m1.09203\u001b[0m      0.11511      0.94549  7.61s\n",
      "      6       \u001b[36m0.06349\u001b[0m       \u001b[32m1.02559\u001b[0m      0.06191      0.94838  7.61s\n",
      "      7       \u001b[36m0.03274\u001b[0m       \u001b[32m0.98421\u001b[0m      0.03326      0.95069  7.85s\n",
      "      8       \u001b[36m0.01843\u001b[0m       0.98769      0.01866      0.95117  8.19s\n",
      "      9       \u001b[36m0.01186\u001b[0m       1.02080      0.01162      0.94856  8.08s\n",
      "     10       \u001b[36m0.00547\u001b[0m       \u001b[32m0.97344\u001b[0m      0.00562      0.95200  7.91s\n",
      "     11       \u001b[36m0.00274\u001b[0m       \u001b[32m0.93464\u001b[0m      0.00293      0.95265  7.91s\n",
      "     12       \u001b[36m0.00128\u001b[0m       0.93472      0.00137      0.95146  8.20s\n",
      "     13       \u001b[36m0.00074\u001b[0m       \u001b[32m0.92624\u001b[0m      0.00079      0.95277  7.73s\n",
      "     14       \u001b[36m0.00034\u001b[0m       \u001b[32m0.92333\u001b[0m      0.00036      0.95288  7.60s\n",
      "     15       \u001b[36m0.00006\u001b[0m       0.92389      0.00006      0.95229  7.54s\n"
     ]
    },
    {
     "data": {
      "text/plain": [
       "NeuralNet(X_tensor_type=None,\n",
       "     batch_iterator_test=<nolearn.lasagne.base.BatchIterator object at 0x1290a7fd0>,\n",
       "     batch_iterator_train=<nolearn.lasagne.base.BatchIterator object at 0x1290a7f50>,\n",
       "     custom_score=None, hidden_num_units=1000,\n",
       "     input_shape=(None, 1, 28, 28),\n",
       "     layers=[('input', <class 'lasagne.layers.input.InputLayer'>), ('hidden', <class 'lasagne.layers.dense.DenseLayer'>), ('output', <class 'lasagne.layers.dense.DenseLayer'>)],\n",
       "     loss=None, max_epochs=15, more_params={},\n",
       "     objective=<function objective at 0x12909db90>,\n",
       "     objective_loss_function=<function categorical_crossentropy at 0x128ec4de8>,\n",
       "     on_batch_finished=[],\n",
       "     on_epoch_finished=[<nolearn.lasagne.handlers.PrintLog instance at 0x1290a9ea8>],\n",
       "     on_training_finished=[],\n",
       "     on_training_started=[<nolearn.lasagne.handlers.PrintLayerInfo instance at 0x1290be830>],\n",
       "     output_nonlinearity=<function softmax at 0x128d40de8>,\n",
       "     output_num_units=10, regression=False,\n",
       "     train_split=<nolearn.lasagne.base.TrainSplit object at 0x1290b8050>,\n",
       "     update=<function nesterov_momentum at 0x128ece578>,\n",
       "     update_learning_rate=0.0001, update_momentum=0.9,\n",
       "     use_label_encoder=False, verbose=1,\n",
       "     y_tensor_type=TensorType(int32, vector))"
      ]
     },
     "execution_count": 6,
     "metadata": {},
     "output_type": "execute_result"
    }
   ],
   "source": [
    "# Train the network\n",
    "net1.fit(train, target)"
   ]
  },
  {
   "cell_type": "markdown",
   "metadata": {},
   "source": [
    "You can see the output associated with the training process. Right off the bat this set up gives us ~0.95 accuracy\n",
    "score in just 15 epochs which completes in less than 3 minutes. Unfortunately, one layer neural network does not improve \n",
    "beyond 0.96 accuracy score ragardless of how many neurons in a layer is specified (1000 in case above).\n",
    "\n",
    "I will try out the convolutional neural network. To set up the CNN I added two convolutional layers and one pooling layer. \n",
    "I would add another pooling layer and a dropout layer, but training such a model would last for over 20 minutes and kaggle notebook is only allowed to run for 1200 seconds (20 minutes). \n",
    "As a result, below is the CNN model I will use for demonstration."
   ]
  },
  {
   "cell_type": "code",
   "execution_count": 8,
   "metadata": {
    "collapsed": false
   },
   "outputs": [
    {
     "name": "stdout",
     "output_type": "stream",
     "text": [
      "# Neural Network with 1739428 learnable parameters\n",
      "\n",
      "## Layer information\n",
      "\n",
      "  #  name     size\n",
      "---  -------  --------\n",
      "  0  input    1x28x28\n",
      "  1  conv1    7x26x26\n",
      "  2  pool1    7x13x13\n",
      "  3  conv2    12x12x12\n",
      "  4  hidden3  1000\n",
      "  5  output   10\n",
      "\n",
      "  epoch    train loss    valid loss    train/val    valid acc  dur\n",
      "-------  ------------  ------------  -----------  -----------  ------\n",
      "      1       \u001b[36m2.22636\u001b[0m       \u001b[32m0.42536\u001b[0m      5.23401      0.86741  33.92s\n",
      "      2       \u001b[36m0.32667\u001b[0m       \u001b[32m0.28545\u001b[0m      1.14440      0.91032  33.75s\n",
      "      3       \u001b[36m0.23419\u001b[0m       \u001b[32m0.22900\u001b[0m      1.02265      0.92927  33.60s\n",
      "      4       \u001b[36m0.18815\u001b[0m       \u001b[32m0.19794\u001b[0m      0.95057      0.93945  33.28s\n",
      "      5       \u001b[36m0.15920\u001b[0m       \u001b[32m0.17785\u001b[0m      0.89513      0.94448  34.48s\n",
      "      6       \u001b[36m0.13858\u001b[0m       \u001b[32m0.16391\u001b[0m      0.84546      0.94945  34.36s\n",
      "      7       \u001b[36m0.12283\u001b[0m       \u001b[32m0.15354\u001b[0m      0.80000      0.95282  36.05s\n",
      "      8       \u001b[36m0.11021\u001b[0m       \u001b[32m0.14528\u001b[0m      0.75862      0.95519  37.92s\n",
      "      9       \u001b[36m0.09963\u001b[0m       \u001b[32m0.13846\u001b[0m      0.71954      0.95720  36.81s\n",
      "     10       \u001b[36m0.09055\u001b[0m       \u001b[32m0.13294\u001b[0m      0.68115      0.96016  37.24s\n",
      "     11       \u001b[36m0.08271\u001b[0m       \u001b[32m0.12847\u001b[0m      0.64378      0.96170  38.22s\n",
      "     12       \u001b[36m0.07582\u001b[0m       \u001b[32m0.12479\u001b[0m      0.60757      0.96229  39.59s\n",
      "     13       \u001b[36m0.06968\u001b[0m       \u001b[32m0.12155\u001b[0m      0.57321      0.96300  34.60s\n",
      "     14       \u001b[36m0.06416\u001b[0m       \u001b[32m0.11896\u001b[0m      0.53932      0.96395  35.40s\n",
      "     15       \u001b[36m0.05917\u001b[0m       \u001b[32m0.11668\u001b[0m      0.50710      0.96490  38.02s\n"
     ]
    },
    {
     "name": "stderr",
     "output_type": "stream",
     "text": [
      "/Users/Koba/.ssh/src/lasagne/lasagne/layers/conv.py:489: UserWarning: The `image_shape` keyword argument to `tensor.nnet.conv2d` is deprecated, it has been renamed to `input_shape`.\n",
      "  border_mode=border_mode)\n"
     ]
    }
   ],
   "source": [
    "def CNN(n_epochs):\n",
    "    net1 = NeuralNet(\n",
    "        layers=[\n",
    "        ('input', layers.InputLayer),\n",
    "        ('conv1', layers.Conv2DLayer),      #Convolutional layer.  Params defined below\n",
    "        ('pool1', layers.MaxPool2DLayer),   # Like downsampling, for execution speed\n",
    "        ('conv2', layers.Conv2DLayer),\n",
    "        ('hidden3', layers.DenseLayer),\n",
    "        ('output', layers.DenseLayer),\n",
    "        ],\n",
    "\n",
    "    input_shape=(None, 1, 28, 28),\n",
    "    conv1_num_filters=7, \n",
    "    conv1_filter_size=(3, 3), \n",
    "    conv1_nonlinearity=lasagne.nonlinearities.rectify,\n",
    "        \n",
    "    pool1_pool_size=(2, 2),\n",
    "        \n",
    "    conv2_num_filters=12, \n",
    "    conv2_filter_size=(2, 2),    \n",
    "    conv2_nonlinearity=lasagne.nonlinearities.rectify,\n",
    "        \n",
    "    hidden3_num_units=1000,\n",
    "    output_num_units=10, \n",
    "    output_nonlinearity=lasagne.nonlinearities.softmax,\n",
    "\n",
    "    update_learning_rate=0.0001,\n",
    "    update_momentum=0.9,\n",
    "\n",
    "    max_epochs=n_epochs,\n",
    "    verbose=1,\n",
    "    )\n",
    "    return net1\n",
    "\n",
    "cnn = CNN(15).fit(train,target) # train the CNN model for 15 epochs\n"
   ]
  },
  {
   "cell_type": "markdown",
   "metadata": {},
   "source": [
    "Looks like this CNN model produces a slightly better result than a simple NN model for the same number of epochs and neurons in the hidden layer. \n",
    "The CNN model was more time consuming though. If you think that it is not worth it to use the CNN model over the NN you are wrong.\n",
    "NN model like any other has an upper bound on the best accuracy score it can produce. After 20 epochs \n",
    "NN model does not improve beyond ~0.97 whereas a CNN model gets closer to one. I was able to break into\n",
    "top 100 and get the 94th place by using two convolutional layers and two pooling layers which gave me 0.98614 accuracy\n",
    "in about 5 hours. I will provide the code in the appendix.\n",
    "\n",
    "So there you go. You have a starting point for using neural nets for image classification. \n",
    "If you expand on the info here and reach a score greater than 0.99 please drop a comment.\n",
    "Now, lets use it on the test set and save the results.\n"
   ]
  },
  {
   "cell_type": "code",
   "execution_count": 9,
   "metadata": {
    "collapsed": false
   },
   "outputs": [],
   "source": [
    "# use the NN model to classify test data\n",
    "pred = cnn.predict(test)\n",
    "\n",
    "# save results\n",
    "np.savetxt('submission_cnn.csv', np.c_[range(1,len(test)+1),pred], \\\n",
    "           delimiter=',', header = 'ImageId,Label', comments = '', fmt='%d')\n"
   ]
  },
  {
   "cell_type": "markdown",
   "metadata": {},
   "source": [
    "## Conclusion\n",
    "Python really stands out when it comes to solving data problems. Its quick, intuitive, well documented and has a big community.\n",
    "However, its biggest drawback in my opinion is setting up the environment. My set up is [Jupyter Notebook](http://jupyter.org/) coupled \n",
    "with [Anaconda](https://www.continuum.io/downloads). Both are great tools, however, I ended up spending \n",
    "couple hours taking care of the dependencies (theano and lasagne) and the Windows environment variables. In contrast to Mathematica which \n",
    "has superb report generating options, setting up Python environment can be and was for me a tiring experience. Nevertheless, it pays off because \n",
    "Python framework is well developed for solving data problems. For instance, Mathematica does not even have a CNN\n",
    "implementation available as of 11/4/2015 and everything is done under the hood whereas in a Python framework one \n",
    "can find almost any algorithm imaginable.\n",
    "\n",
    "Among Python, R and Julia I beleive Python and R are most competitive data science technologies with Julia being \n",
    "in the process of maturing. Choosing Python over R and vica versa really has to do with either individual preference or\n",
    "the suitability of the technology for the problem at hand. Python is more efficient than R. But Julia is more \n",
    "efficient than both Python and R.\n"
   ]
  },
  {
   "cell_type": "markdown",
   "metadata": {},
   "source": [
    "### Resources Used:\n",
    "\n",
    "[Convolutional Neural Networks (LeNet)](http://deeplearning.net/tutorial/lenet.html)\n",
    "\n",
    "[CS231n Convolutional Neural Networks for Visual Recognition](http://cs231n.github.io/convolutional-networks/)\n",
    "\n",
    "[Tutorial: Training convolutional neural networks with nolearn](http://nbviewer.ipython.org/github/dnouri/nolearn/blob/master/docs/notebooks/CNN_tutorial.ipynb)\n",
    "\n",
    "[Using convolutional neural nets to detect facial keypoints tutorial](http://danielnouri.org/notes/2014/12/17/using-convolutional-neural-nets-to-detect-facial-keypoints-tutorial/)\n",
    "\n",
    "[Deep learning – Convolutional neural networks and feature extraction with Python](http://blog.christianperone.com/2015/08/convolutional-neural-networks-and-feature-extraction-with-python/)"
   ]
  },
  {
   "cell_type": "markdown",
   "metadata": {},
   "source": [
    "# Appendix\n",
    "## CNN that achieved 98.6% accuracy on test data"
   ]
  },
  {
   "cell_type": "code",
   "execution_count": null,
   "metadata": {
    "collapsed": true
   },
   "outputs": [],
   "source": [
    "import numpy as np\n",
    "import pandas as pd\n",
    "\n",
    "import lasagne\n",
    "from lasagne import layers\n",
    "from lasagne.updates import nesterov_momentum\n",
    "from nolearn.lasagne import NeuralNet\n",
    "from nolearn.lasagne import visualize\n",
    "\n",
    "def main():\n",
    "    print(\"Loading in data\")\n",
    "    # create the training & test sets, skipping the header row with [1:]\n",
    "    dataset = pd.read_csv(\"train.csv\")\n",
    "    target = dataset[[0]].values.ravel()\n",
    "    train = dataset.iloc[:,1:].values\n",
    "    test = pd.read_csv(\"test.csv\").values\n",
    "\n",
    "    # convert to array, specify data type, and reshape\n",
    "    target = target.astype(np.uint8)\n",
    "    train = np.array(train).reshape((-1, 1, 28, 28)).astype(np.uint8)\n",
    "    test = np.array(test).reshape((-1, 1, 28, 28)).astype(np.uint8)\n",
    "    print(\"training model\")\n",
    "    # model set up\n",
    "    def CNN(n_epochs):\n",
    "        net1 = NeuralNet(\n",
    "            layers=[('input', layers.InputLayer),\n",
    "                ('conv2d1', layers.Conv2DLayer),\n",
    "                ('maxpool1', layers.MaxPool2DLayer),\n",
    "                ('conv2d2', layers.Conv2DLayer),\n",
    "                ('maxpool2', layers.MaxPool2DLayer),\n",
    "                ('dropout1', layers.DropoutLayer),\n",
    "                ('dense', layers.DenseLayer),\n",
    "                ('dropout2', layers.DropoutLayer),\n",
    "                ('output', layers.DenseLayer),\n",
    "                ],\n",
    "         # input layer\n",
    "         input_shape=(None, 1, 28, 28),\n",
    "         # layer conv2d1\n",
    "         conv2d1_num_filters=32,\n",
    "         conv2d1_filter_size=(5, 5),\n",
    "           conv2d1_nonlinearity=lasagne.nonlinearities.rectify,\n",
    "         conv2d1_W=lasagne.init.GlorotUniform(),  \n",
    "         # layer maxpool1\n",
    "         maxpool1_pool_size=(2, 2),    \n",
    "         # layer conv2d2\n",
    "         conv2d2_num_filters=32,\n",
    "         conv2d2_filter_size=(5, 5),\n",
    "         conv2d2_nonlinearity=lasagne.nonlinearities.rectify,\n",
    "         # layer maxpool2\n",
    "         maxpool2_pool_size=(2, 2),\n",
    "         # dropout1\n",
    "         dropout1_p=0.5,    \n",
    "         # dense\n",
    "         dense_num_units=5000,\n",
    "         dense_nonlinearity=lasagne.nonlinearities.rectify,    \n",
    "         # dropout2\n",
    "         dropout2_p=0.5,    \n",
    "         # output\n",
    "         output_nonlinearity=lasagne.nonlinearities.softmax,\n",
    "         output_num_units=10,\n",
    "         # optimization method params\n",
    "         update=nesterov_momentum,\n",
    "         update_learning_rate=0.0001,\n",
    "         update_momentum=0.9,\n",
    "         max_epochs=n_epochs,\n",
    "         verbose=1)\n",
    "\n",
    "        return net1\n",
    "\n",
    "    # train model\n",
    "    cnn = CNN(100).fit(train,target)\n",
    "\n",
    "    # use the CNN model to classify test data\n",
    "    pred = cnn.predict(test)\n",
    "\n",
    "    # save results\n",
    "    np.savetxt('submission_cnn.csv', np.c_[range(1,len(test)+1),pred], \\\n",
    "               delimiter=',', header = 'ImageId,Label', comments = '', fmt='%d')\n",
    "\n",
    "if __name__ == \"__main__\":\n",
    "    main()\n",
    "\n"
   ]
  }
 ],
 "metadata": {
  "kernelspec": {
   "display_name": "Python 2",
   "language": "python",
   "name": "python2"
  },
  "language_info": {
   "codemirror_mode": {
    "name": "ipython",
    "version": 2
   },
   "file_extension": ".py",
   "mimetype": "text/x-python",
   "name": "python",
   "nbconvert_exporter": "python",
   "pygments_lexer": "ipython2",
   "version": "2.7.11"
  }
 },
 "nbformat": 4,
 "nbformat_minor": 0
}
